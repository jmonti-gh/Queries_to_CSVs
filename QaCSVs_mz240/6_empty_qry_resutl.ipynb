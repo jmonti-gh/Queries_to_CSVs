{
 "cells": [
  {
   "cell_type": "markdown",
   "metadata": {},
   "source": [
    "# Make valid df from empty qry result"
   ]
  },
  {
   "cell_type": "code",
   "execution_count": 11,
   "metadata": {},
   "outputs": [],
   "source": [
    "import pyodbc\n",
    "import pandas as pd\n",
    "\n",
    "query = ''' select * from sales.orders where order_status=3 and order_date='2016-02-07' '''"
   ]
  },
  {
   "cell_type": "code",
   "execution_count": 12,
   "metadata": {},
   "outputs": [],
   "source": [
    "### function to convert SQL query to a df\n",
    "def df_from_sql(qry, cur):\n",
    "    cur.execute(qry)\n",
    "    ## Hya que hacer inteligente esta funct. de modo que si devuelve tabla vacía\n",
    "    ## Crear un df vacía --mmm revisar queries \n",
    "    try:\n",
    "        cols = [i[0] for i in cur.description]\n",
    "        dats = [list(xx) for xx in cur]\n",
    "    except Exception as e:\n",
    "        ln = f'>err ERROR! {e}'\n",
    "        df = False\n",
    "    else:\n",
    "        df = pd.DataFrame(data=dats, columns=cols)\n",
    "    return df\n",
    "\n",
    "\n",
    "def cnx_db(srv, dbname):\n",
    "    mssql_drv = '{ODBC Driver 17 for SQL Server}'\n",
    "    user = 'soporte'\n",
    "    passwd = 'Mate+123'\n",
    "\n",
    "    # Construct the Connection String\n",
    "    cnx_string = f'DRIVER={mssql_drv};SERVER={srv};' +\\\n",
    "            f'DATABASE={dbname};UID={user};PWD={passwd}'\n",
    "    print('Connection String:\\n', cnx_string)\n",
    "\n",
    "    # Establish the connection\n",
    "    try:\n",
    "        cnx = pyodbc.connect(cnx_string)\n",
    "    except pyodbc.Error as e:\n",
    "        cursor = False\n",
    "        ln = f'''>err ERROR! Falló la conexión con {srv} {dbname}\n",
    "            {e} '''\n",
    "    else:\n",
    "        cursor = cnx.cursor()\n",
    "        ln = f'>ok_ Conexión con {srv} {dbname} EXITOSA!'\n",
    "    finally:\n",
    "        print(ln)   # only in jupyter to view\n",
    "\n",
    "    return cursor"
   ]
  },
  {
   "cell_type": "code",
   "execution_count": 13,
   "metadata": {},
   "outputs": [
    {
     "name": "stdout",
     "output_type": "stream",
     "text": [
      "Connection String:\n",
      " DRIVER={ODBC Driver 17 for SQL Server};SERVER=localhost;DATABASE=BikeStores;UID=soporte;PWD=Mate+123\n",
      ">ok_ Conexión con localhost BikeStores EXITOSA!\n"
     ]
    },
    {
     "data": {
      "text/html": [
       "<div>\n",
       "<style scoped>\n",
       "    .dataframe tbody tr th:only-of-type {\n",
       "        vertical-align: middle;\n",
       "    }\n",
       "\n",
       "    .dataframe tbody tr th {\n",
       "        vertical-align: top;\n",
       "    }\n",
       "\n",
       "    .dataframe thead th {\n",
       "        text-align: right;\n",
       "    }\n",
       "</style>\n",
       "<table border=\"1\" class=\"dataframe\">\n",
       "  <thead>\n",
       "    <tr style=\"text-align: right;\">\n",
       "      <th></th>\n",
       "      <th>order_id</th>\n",
       "      <th>customer_id</th>\n",
       "      <th>order_status</th>\n",
       "      <th>order_date</th>\n",
       "      <th>required_date</th>\n",
       "      <th>shipped_date</th>\n",
       "      <th>store_id</th>\n",
       "      <th>staff_id</th>\n",
       "    </tr>\n",
       "  </thead>\n",
       "  <tbody>\n",
       "  </tbody>\n",
       "</table>\n",
       "</div>"
      ],
      "text/plain": [
       "Empty DataFrame\n",
       "Columns: [order_id, customer_id, order_status, order_date, required_date, shipped_date, store_id, staff_id]\n",
       "Index: []"
      ]
     },
     "execution_count": 13,
     "metadata": {},
     "output_type": "execute_result"
    }
   ],
   "source": [
    "cur = cnx_db('localhost', 'BikeStores')\n",
    "res_df = df_from_sql(query, cur)\n",
    "res_df"
   ]
  },
  {
   "cell_type": "code",
   "execution_count": 14,
   "metadata": {},
   "outputs": [
    {
     "name": "stdout",
     "output_type": "stream",
     "text": [
      "True\n"
     ]
    }
   ],
   "source": [
    "## \n",
    "print(res_df.empty)"
   ]
  },
  {
   "cell_type": "code",
   "execution_count": 17,
   "metadata": {},
   "outputs": [],
   "source": [
    "fn = 'arch.csv'\n",
    "res_df.to_csv(fn, sep=';', encoding='utf-8', index=False)"
   ]
  },
  {
   "cell_type": "code",
   "execution_count": 38,
   "metadata": {},
   "outputs": [
    {
     "data": {
      "text/plain": [
       "'df_from_sql()¡ERROR!'"
      ]
     },
     "execution_count": 38,
     "metadata": {},
     "output_type": "execute_result"
    }
   ],
   "source": [
    "flag_col = 'df_from_sql()¡ERROR!'\n",
    "df = pd.DataFrame({flag_col: [1]})\n",
    "df.columns[0]"
   ]
  },
  {
   "cell_type": "code",
   "execution_count": 37,
   "metadata": {},
   "outputs": [
    {
     "name": "stdout",
     "output_type": "stream",
     "text": [
      "df_from_sql() ERROR\n"
     ]
    }
   ],
   "source": [
    "if flag_col == df.columns[0]:\n",
    "    print(flag_col)"
   ]
  },
  {
   "cell_type": "code",
   "execution_count": 30,
   "metadata": {},
   "outputs": [
    {
     "data": {
      "text/html": [
       "<div>\n",
       "<style scoped>\n",
       "    .dataframe tbody tr th:only-of-type {\n",
       "        vertical-align: middle;\n",
       "    }\n",
       "\n",
       "    .dataframe tbody tr th {\n",
       "        vertical-align: top;\n",
       "    }\n",
       "\n",
       "    .dataframe thead th {\n",
       "        text-align: right;\n",
       "    }\n",
       "</style>\n",
       "<table border=\"1\" class=\"dataframe\">\n",
       "  <thead>\n",
       "    <tr style=\"text-align: right;\">\n",
       "      <th></th>\n",
       "      <th>ERR</th>\n",
       "    </tr>\n",
       "  </thead>\n",
       "  <tbody>\n",
       "    <tr>\n",
       "      <th>0</th>\n",
       "      <td>&gt;ERROR en fun. df_from_sql()! arch.csv</td>\n",
       "    </tr>\n",
       "  </tbody>\n",
       "</table>\n",
       "</div>"
      ],
      "text/plain": [
       "                                      ERR\n",
       "0  >ERROR en fun. df_from_sql()! arch.csv"
      ]
     },
     "execution_count": 30,
     "metadata": {},
     "output_type": "execute_result"
    }
   ],
   "source": [
    "trin = 'ERROR en fun. df_from_sql()!'\n",
    "ln = f'''>{trin} {fn}'''\n",
    "#data = {'ERR': [ln], 'Otro': ['Y ahora']}\n",
    "df = pd.DataFrame({'ERR': [ln]})\n",
    "df"
   ]
  },
  {
   "cell_type": "code",
   "execution_count": 31,
   "metadata": {},
   "outputs": [
    {
     "name": "stdout",
     "output_type": "stream",
     "text": [
      ">ERROR en fun. df_from_sql()! arch.csv <class 'str'>\n",
      "ERROR en fun. df_from_sql()!\n"
     ]
    }
   ],
   "source": [
    "print(df.iloc[0, 0], type(df.iloc[0, 0]))\n",
    "if trin in df.iloc[0, 0]:\n",
    "    print(trin)"
   ]
  },
  {
   "cell_type": "code",
   "execution_count": 16,
   "metadata": {},
   "outputs": [
    {
     "name": "stdout",
     "output_type": "stream",
     "text": [
      "True\n"
     ]
    }
   ],
   "source": [
    "## Empty df\n",
    "edf = pd.DataFrame()\n",
    "print(edf.empty)"
   ]
  },
  {
   "cell_type": "code",
   "execution_count": null,
   "metadata": {},
   "outputs": [],
   "source": []
  }
 ],
 "metadata": {
  "kernelspec": {
   "display_name": "Python 3",
   "language": "python",
   "name": "python3"
  },
  "language_info": {
   "codemirror_mode": {
    "name": "ipython",
    "version": 3
   },
   "file_extension": ".py",
   "mimetype": "text/x-python",
   "name": "python",
   "nbconvert_exporter": "python",
   "pygments_lexer": "ipython3",
   "version": "3.11.0"
  },
  "orig_nbformat": 4
 },
 "nbformat": 4,
 "nbformat_minor": 2
}
