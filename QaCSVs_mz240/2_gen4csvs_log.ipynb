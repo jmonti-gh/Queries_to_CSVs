{
 "cells": [
  {
   "cell_type": "markdown",
   "metadata": {},
   "source": [
    "# Create 4 csvs with log of the whole process\n"
   ]
  },
  {
   "cell_type": "markdown",
   "metadata": {},
   "source": [
    "- read CSVs_list_log.xlsx to get what to do\n",
    "- 4 sheets: One per pair serve-db (P_SB), 1 for log data, 1 for variables\n",
    "- Will read all 4 sheets at once\n",
    "- Use the pairs Servers-DB indicated as name of sheet\n",
    "- Name of sheet also indicate logs and vars to replace"
   ]
  },
  {
   "cell_type": "markdown",
   "metadata": {},
   "source": [
    "## Import the libraries and set datetime values\n",
    "- pandas, os, datetime\n",
    "- datetime values to write in logs and name file"
   ]
  },
  {
   "cell_type": "code",
   "execution_count": 81,
   "metadata": {},
   "outputs": [
    {
     "name": "stdout",
     "output_type": "stream",
     "text": [
      "2023-09-11 22:09:37.068990 <class 'datetime.datetime'>\n",
      "2022 <class 'int'> 8 <class 'int'>\n",
      "2023 - 9 - 11 - 22 - 0001-01-01 00:00:00 - 8\n",
      "202309112209\n"
     ]
    }
   ],
   "source": [
    "# Required libraries\n",
    "import pandas as pd\n",
    "import os\n",
    "import datetime as dtm\n",
    "import sys\n",
    "\n",
    "# Datetime variables\n",
    "now = dtm.datetime.now()\n",
    "\n",
    "year, month, day = now.year, now.month, now.day\n",
    "lastyear, lastmonth = now.year - 1, now.month - 1\n",
    "\n",
    "# mk lastyear and last month strings\n",
    "l_year_str = str(lastyear)\n",
    "l_month_str = str(lastmonth) if lastmonth > 9 else '0' + str(lastmonth)\n",
    "\n",
    "# mk strftime string\n",
    "now_fname = now.strftime('%Y%m%d%H%M')\n",
    "now_inlog = now.strftime('%b%d%H%M%S')\n",
    "\n",
    "year, month, day = now.year, now.month, now.day\n",
    "hour, mins = now.hour, now.min\n",
    "month_last = month- 1\n",
    "\n",
    "print(now, type(now))\n",
    "print(lastyear, type(lastyear), lastmonth, type(lastmonth))\n",
    "print(f'{year} - {month} - {day} - {hour} - {mins} - {lastmonth}')\n",
    "print(now_fname)\n",
    "\n",
    "# ok, we'll see what we need later"
   ]
  },
  {
   "cell_type": "markdown",
   "metadata": {},
   "source": [
    "## Mk the functions to use later\n",
    "1. wrt_log(file, msg): to write the log w/time stamp\n",
    "2. exit_prg(msg): exit program and write log before"
   ]
  },
  {
   "cell_type": "code",
   "execution_count": 82,
   "metadata": {},
   "outputs": [],
   "source": [
    "# Make a funct. to write log\n",
    "def wrt_log(file, msg):\n",
    "    with open(file, 'a') as f:\n",
    "        f.write(f\"{dtm.datetime.now().strftime('%b %d %H:%M:%S')}\")\n",
    "        f.write(msg +'\\n')\n",
    "\n",
    "## Exit function writing log\n",
    "def exit_prg():\n",
    "    # txt = f'ABORT Execution: {msg}'\n",
    "    # wrt_log(file, txt)\n",
    "    sys.exit(0)"
   ]
  },
  {
   "cell_type": "markdown",
   "metadata": {},
   "source": [
    "## First create the log before trying anything"
   ]
  },
  {
   "cell_type": "code",
   "execution_count": 83,
   "metadata": {},
   "outputs": [],
   "source": [
    "# Defining log file\n",
    "log = f'files/gencsvs_{now_fname}.log'\n",
    "\n",
    "# Won't use try cause can't registers errors en log!\n",
    "ln = f' > Starting {log}'\n",
    "wrt_log(log, ln)"
   ]
  },
  {
   "cell_type": "markdown",
   "metadata": {},
   "source": [
    "## Read whole .xlsx and get de df and P_SB"
   ]
  },
  {
   "cell_type": "code",
   "execution_count": 85,
   "metadata": {},
   "outputs": [],
   "source": [
    "xlsx = 'files/CSVs_list_logM.xlsx'\n",
    "\n",
    "try:\n",
    "    dic_dfs = pd.read_excel(xlsx, sheet_name=None)\n",
    "except Exception as e:\n",
    "    ln = f'{dtm.datetime.now()} > ERROR:! {e}'\n",
    "    wrt_log(log, ln)\n",
    "    #exit_prg()\n",
    "else:\n",
    "    ln = f' > {xlsx} red {len(dic_dfs)} sheets: {dic_dfs.keys()}'\n",
    "    wrt_log(log, ln)\n"
   ]
  },
  {
   "cell_type": "markdown",
   "metadata": {},
   "source": [
    "## First read Fechas to get values to replace"
   ]
  },
  {
   "cell_type": "code",
   "execution_count": 93,
   "metadata": {},
   "outputs": [
    {
     "data": {
      "text/html": [
       "<div>\n",
       "<style scoped>\n",
       "    .dataframe tbody tr th:only-of-type {\n",
       "        vertical-align: middle;\n",
       "    }\n",
       "\n",
       "    .dataframe tbody tr th {\n",
       "        vertical-align: top;\n",
       "    }\n",
       "\n",
       "    .dataframe thead th {\n",
       "        text-align: right;\n",
       "    }\n",
       "</style>\n",
       "<table border=\"1\" class=\"dataframe\">\n",
       "  <thead>\n",
       "    <tr style=\"text-align: right;\">\n",
       "      <th></th>\n",
       "      <th>Fecha de Corte</th>\n",
       "      <th>Periodo</th>\n",
       "      <th>corte del mes cuyo Deterioro se calcula</th>\n",
       "      <th>corte del mismo mes del año anterior (12 meses antes)</th>\n",
       "    </tr>\n",
       "  </thead>\n",
       "  <tbody>\n",
       "    <tr>\n",
       "      <th>0</th>\n",
       "      <td>20220630</td>\n",
       "      <td>202206</td>\n",
       "      <td>?</td>\n",
       "      <td>20210630</td>\n",
       "    </tr>\n",
       "  </tbody>\n",
       "</table>\n",
       "</div>"
      ],
      "text/plain": [
       "   Fecha de Corte  Periodo corte del mes cuyo Deterioro se calcula  \\\n",
       "0        20220630   202206                                       ?   \n",
       "\n",
       "   corte del mismo mes del año anterior (12 meses antes)  \n",
       "0                                           20210630      "
      ]
     },
     "metadata": {},
     "output_type": "display_data"
    },
    {
     "name": "stdout",
     "output_type": "stream",
     "text": [
      "20220630 <class 'str'>\n",
      "202206 <class 'str'>\n",
      "20210630 <class 'str'>\n"
     ]
    }
   ],
   "source": [
    "fechas_df = dic_dfs['Fechas']\n",
    "display(fechas_df)\n",
    "f_corte = str(fechas_df.loc[0, 'Fecha de Corte'])\n",
    "print(f_corte, type(f_corte))\n",
    "period = f_corte[:6]\n",
    "print(period, type(period))\n",
    "f_corte_12a = str(int(f_corte[:4]) - 1) + f_corte[4:]\n",
    "print(f_corte_12a, type(f_corte_12a))"
   ]
  },
  {
   "cell_type": "markdown",
   "metadata": {},
   "source": [
    "## Ahora que leer Pares_S-B sheet \n",
    "- para saber todas las conexiones a bases que necesito\n",
    "- y cada linea será un df "
   ]
  },
  {
   "cell_type": "markdown",
   "metadata": {},
   "source": [
    "# LLego a la conclusión que es mejor una sola tabla con todos los datos\n",
    "- y luego deberé separar por par Server Base y procesar por sib dataframes"
   ]
  },
  {
   "cell_type": "markdown",
   "metadata": {},
   "source": [
    "##  Use AdventureWorks DB\n",
    "Till the user for MTM-BT DB is ready"
   ]
  },
  {
   "cell_type": "code",
   "execution_count": null,
   "metadata": {},
   "outputs": [],
   "source": [
    "# Import necessary libraries\n",
    "import pyodbc\n",
    "import pandas as pd\n",
    "import os\n",
    "\n",
    "#pyodbc.__version__\n",
    "pd.__version__\n",
    "#os.__dict__\n",
    "#dt.__dict__\n",
    "#dir(pyodbc)"
   ]
  },
  {
   "cell_type": "code",
   "execution_count": null,
   "metadata": {},
   "outputs": [],
   "source": [
    "### Connect to AdventureWorks2019 DB, SQL Srv authentication \n",
    "\n",
    "# Valid values for the connection string\n",
    "driver = '{ODBC Driver 17 for SQL Server}'\n",
    "server = '(local)'\n",
    "dbname = 'AdventureWorks2019'\n",
    "user = 'user1'\n",
    "passwd = 'pass1'\n",
    "\n",
    "# Construct the Connection String\n",
    "cnx_string = f'DRIVER={driver};SERVER={server};' +\\\n",
    "            f'DATABASE={dbname};UID={user};PWD={passwd}'\n",
    "print('Connection String:\\n', cnx_string)\n",
    "\n",
    "# Establish the connection\n",
    "try:\n",
    "    cnx = pyodbc.connect(cnx_string)\n",
    "    cur = cnx.cursor()\n",
    "    print('SUCCESS: Connection Established')\n",
    "except pyodbc.Error as e:\n",
    "    print('ERROR:', e)\n"
   ]
  },
  {
   "cell_type": "code",
   "execution_count": null,
   "metadata": {},
   "outputs": [],
   "source": [
    "## Read excel\n",
    "file = 'files/CSVs_list_simple.xlsx'\n",
    "\n",
    "try:\n",
    "    lst_df = pd.read_excel(file)\n",
    "except Exception as e:\n",
    "    print(f'ERROR!: {e}')\n",
    "else:\n",
    "    display(lst_df)\n"
   ]
  },
  {
   "cell_type": "markdown",
   "metadata": {},
   "source": [
    "## Replace de variable values in lst_df\n",
    "1. fechas in 'Modo de armado' col\n",
    "2. period_value in Carpeta col"
   ]
  },
  {
   "cell_type": "code",
   "execution_count": null,
   "metadata": {},
   "outputs": [],
   "source": [
    "## Vars to replace\n",
    "f_corte = '20220630'\n",
    "period = f_corte[:6]\n",
    "print(f_corte, period)"
   ]
  },
  {
   "cell_type": "code",
   "execution_count": null,
   "metadata": {},
   "outputs": [],
   "source": [
    "## 1. Replace f_corte in 'Modo de armado' col\n",
    "lst_df['Modo de armado'] = lst_df['Modo de armado'].str.replace(\n",
    "    'f_corte', f_corte)\n",
    "\n",
    "lst_df.iloc[0, 1]"
   ]
  },
  {
   "cell_type": "code",
   "execution_count": null,
   "metadata": {},
   "outputs": [],
   "source": [
    "## 2. Replace periodo in Carpeta Field\n",
    "lst_df['Carpeta'] = lst_df['Carpeta'].str.replace('periodo', period)\n",
    "\n",
    "lst_df"
   ]
  },
  {
   "cell_type": "markdown",
   "metadata": {},
   "source": [
    "## Functions to make the work\n",
    "- get_row_vals(row_num, df), a function that read the row an extract:\n",
    "    - csvfn, query, and path (Disco :/ Carpeta /)\n",
    "    - return for values as a tuple\n",
    "- mk_folder(row_num, df), a funct tha create the folder where to store the cvs file\n",
    "- query_to_df(row_num, df, cursor), a funct. that make the query adn save the cvs file"
   ]
  },
  {
   "cell_type": "code",
   "execution_count": null,
   "metadata": {},
   "outputs": [],
   "source": [
    "def mk_folder(df, row_num):\n",
    "    disk = df.loc[row_num, 'Disco']\n",
    "    folder = df.loc[row_num, 'Carpeta']\n",
    "    path = f'{disk}:/{folder}/'\n",
    "    try:\n",
    "        os.makedirs(path)\n",
    "        print(f'Carpeta: \"{path}\" creada!')\n",
    "    except FileExistsError:\n",
    "        print(f'Carpeta: \"{folder}\" EXISTE!')\n",
    "    return path\n",
    "\n",
    "def qry_to_df(df, row_num):\n",
    "    query = df.loc[row_num, 'Modo de armado']\n",
    "    query = query.replace(\"’\", \"'\")\n",
    "    cur.execute(query)\n",
    "    cols = [i[0] for i in cur.description]\n",
    "    dats = [list(xx) for xx in cur]\n",
    "    df = pd.DataFrame(data=dats, columns=cols)\n",
    "    return df\n",
    "\n",
    "filenm = f\"{lst_df.loc[0, 'Nombre archivo CSV']}.csv\"\n",
    "filenm\n"
   ]
  },
  {
   "cell_type": "markdown",
   "metadata": {},
   "source": [
    "## Veamos como hacemos el bucle de todo el df\n",
    "1. Get total rows\n",
    "2. Mk the loop in all rows of the df, that:\n",
    "    - mk_folder and obtain file path\n",
    "    - get the csv as a df\n",
    "    - write csv (wo a funct.)"
   ]
  },
  {
   "cell_type": "code",
   "execution_count": null,
   "metadata": {},
   "outputs": [],
   "source": [
    "rows = len(lst_df)\n",
    "\n",
    "for row in range(rows):\n",
    "    f_path = mk_folder(lst_df, row)\n",
    "    csvdf = qry_to_df(lst_df, row)\n",
    "    # write csv\n",
    "    path_csv = f\"{f_path}/{lst_df.loc[row, 'Nombre archivo CSV']}.csv\"\n",
    "    print(path_csv)\n",
    "    try:\n",
    "        csvdf.to_csv(path_csv, sep=';', index=False)\n",
    "    except Exception as e:\n",
    "        print(f'ERROR:!, {e}')\n",
    "    else:\n",
    "        print(os.listdir(f_path))\n"
   ]
  }
 ],
 "metadata": {
  "kernelspec": {
   "display_name": "Python 3",
   "language": "python",
   "name": "python3"
  },
  "language_info": {
   "codemirror_mode": {
    "name": "ipython",
    "version": 3
   },
   "file_extension": ".py",
   "mimetype": "text/x-python",
   "name": "python",
   "nbconvert_exporter": "python",
   "pygments_lexer": "ipython3",
   "version": "3.11.0"
  },
  "orig_nbformat": 4
 },
 "nbformat": 4,
 "nbformat_minor": 2
}
