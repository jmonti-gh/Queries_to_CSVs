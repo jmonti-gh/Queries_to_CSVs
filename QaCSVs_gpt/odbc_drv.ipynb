{
 "cells": [
  {
   "cell_type": "markdown",
   "id": "c1008d34",
   "metadata": {},
   "source": [
    "# ODBC drivers Info Try"
   ]
  },
  {
   "cell_type": "code",
   "execution_count": 2,
   "id": "8b2641ba",
   "metadata": {},
   "outputs": [],
   "source": [
    "import winreg\n",
    "import os\n",
    "import platform\n",
    "import datetime\n",
    "from tabulate import tabulate\n",
    "\n",
    "# def get_driver_info():\n",
    "#     drivers = []\n",
    "\n",
    "#     registry_paths = [\n",
    "#         (winreg.HKEY_LOCAL_MACHINE, r\"SOFTWARE\\ODBC\\ODBCINST.INI\"),                # 64-bit\n",
    "#         (winreg.HKEY_LOCAL_MACHINE, r\"SOFTWARE\\WOW6432Node\\ODBC\\ODBCINST.INI\")     # 32-bit\n",
    "#     ]\n",
    "\n",
    "#     for hive, base_path in registry_paths:\n",
    "\n"
   ]
  },
  {
   "cell_type": "code",
   "execution_count": 3,
   "id": "0ca20901",
   "metadata": {},
   "outputs": [
    {
     "data": {
      "text/plain": [
       "(18446744071562067970, 'SOFTWARE\\\\ODBC\\\\ODBCINST.INI')"
      ]
     },
     "execution_count": 3,
     "metadata": {},
     "output_type": "execute_result"
    }
   ],
   "source": [
    "winreg.HKEY_LOCAL_MACHINE, r\"SOFTWARE\\ODBC\\ODBCINST.INI\""
   ]
  }
 ],
 "metadata": {
  "kernelspec": {
   "display_name": "Python 3",
   "language": "python",
   "name": "python3"
  },
  "language_info": {
   "codemirror_mode": {
    "name": "ipython",
    "version": 3
   },
   "file_extension": ".py",
   "mimetype": "text/x-python",
   "name": "python",
   "nbconvert_exporter": "python",
   "pygments_lexer": "ipython3",
   "version": "3.11.4"
  }
 },
 "nbformat": 4,
 "nbformat_minor": 5
}
