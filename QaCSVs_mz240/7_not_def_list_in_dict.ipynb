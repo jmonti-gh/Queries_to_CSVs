{
 "cells": [
  {
   "cell_type": "markdown",
   "metadata": {},
   "source": [
    "# Initializating and using list and dicts at the same time\n",
    "(or Initializing a list and appending in one line)"
   ]
  },
  {
   "cell_type": "code",
   "execution_count": 1,
   "metadata": {},
   "outputs": [
    {
     "name": "stdout",
     "output_type": "stream",
     "text": [
      "[1, 2, 'nros']  -  ['empty']\n"
     ]
    }
   ],
   "source": [
    "def add_element(lst, element):\n",
    "    return lst + [element] if lst else [element]\n",
    "\n",
    "l1 = add_element([1, 2], 'nros')\n",
    "l2 = add_element([], 'empty')\n",
    "\n",
    "print(l1, ' - ', l2)"
   ]
  },
  {
   "cell_type": "markdown",
   "metadata": {},
   "source": [
    "## NOW w/Dicts, 3 diff. methods:\n",
    "1. using get(name, 0) + 1\n",
    "2. using get(name, .cont())\n",
    "3. NOT using get, instead if name in dic ..., else: dic[name] = 0"
   ]
  },
  {
   "cell_type": "code",
   "execution_count": 7,
   "metadata": {},
   "outputs": [],
   "source": [
    "prhase = '''\n",
    "Mi gloria es la de ser libre\n",
    "como el pájaro del cielo\n",
    "no hago nido en este suelo\n",
    "ande hay tanto que sufrir\n",
    "y naides me ha de seguir\n",
    "cuando yo remonte vuelo. '''\n",
    "\n",
    "# funct. to show letter histogram\n",
    "def lett_hist(d):\n",
    "    c, res= 0, ''\n",
    "    for k in dic:\n",
    "        c += 1\n",
    "        res += f'''{k}: {dic[k]}\\t'''\n",
    "        if c % 10 == 0:\n",
    "            res += '\\n'\n",
    "    return res"
   ]
  },
  {
   "cell_type": "code",
   "execution_count": 8,
   "metadata": {},
   "outputs": [
    {
     "name": "stdout",
     "output_type": "stream",
     "text": [
      "M: 1\ti: 8\tg: 3\tl: 8\to: 14\tr: 8\ta: 10\te: 20\ts: 7\td: 7\t\n",
      "b: 1\tc: 3\tm: 3\tp: 1\tá: 1\tj: 1\tn: 8\th: 3\tt: 4\tu: 6\t\n",
      "y: 3\tq: 1\tf: 1\tv: 1\t\n"
     ]
    }
   ],
   "source": [
    "#%%timeit    # 11.6 µs ± 92.5 ns per loop (mean ± std. dev. of 7 runs, 100,000 loops each)\n",
    "dic = dict()\n",
    "for letter in prhase:\n",
    "    if not letter.isalnum():\n",
    "        continue\n",
    "    dic[letter] = dic.get(letter, 0) + 1\n",
    "\n",
    "print(lett_hist(dic))"
   ]
  },
  {
   "cell_type": "code",
   "execution_count": 9,
   "metadata": {},
   "outputs": [
    {
     "name": "stdout",
     "output_type": "stream",
     "text": [
      "M: 1\ti: 8\tg: 3\tl: 8\to: 14\tr: 8\ta: 10\te: 20\ts: 7\td: 7\t\n",
      "b: 1\tc: 3\tm: 3\tp: 1\tá: 1\tj: 1\tn: 8\th: 3\tt: 4\tu: 6\t\n",
      "y: 3\tq: 1\tf: 1\tv: 1\t\n"
     ]
    }
   ],
   "source": [
    "#%%timeit    # 31.9 µs ± 80.9 ns per loop (mean ± std. dev. of 7 runs, 10,000 loops each)\n",
    "dic = dict()\n",
    "for letter in prhase:\n",
    "    if not letter.isalnum():\n",
    "        continue\n",
    "    dic[letter] = dic.get(letter, prhase.count(letter))\n",
    "\n",
    "print(lett_hist(dic))"
   ]
  },
  {
   "cell_type": "code",
   "execution_count": 10,
   "metadata": {},
   "outputs": [
    {
     "name": "stdout",
     "output_type": "stream",
     "text": [
      "M: 1\ti: 8\tg: 3\tl: 8\to: 14\tr: 8\ta: 10\te: 20\ts: 7\td: 7\t\n",
      "b: 1\tc: 3\tm: 3\tp: 1\tá: 1\tj: 1\tn: 8\th: 3\tt: 4\tu: 6\t\n",
      "y: 3\tq: 1\tf: 1\tv: 1\t\n"
     ]
    }
   ],
   "source": [
    "#%%timeit    #14.3 µs ± 9.39 ns per loop (mean ± std. dev. of 7 runs, 100,000 loops each)\n",
    "dic = dict()\n",
    "for letter in prhase:\n",
    "    if not letter.isalnum():\n",
    "        continue\n",
    "    if letter in dic:\n",
    "        dic[letter] += 1\n",
    "    else:\n",
    "        dic[letter] = 1\n",
    "\n",
    "print(lett_hist(dic))"
   ]
  },
  {
   "cell_type": "code",
   "execution_count": 11,
   "metadata": {},
   "outputs": [
    {
     "name": "stdout",
     "output_type": "stream",
     "text": [
      "Lista de archivos NO generados []\n",
      "Lista de ERRORES []\n",
      "Lista de archivos generados []\n",
      "\n",
      "Lista de archivos NO generados [0, 6, 12, 18, 24, 30, 36, 42, 48]\n",
      "Lista de ERRORES [0, 7, 14, 21, 28, 35, 42, 49]\n",
      "Lista de archivos generados [0, 8, 16, 24, 32, 40, 48]\n"
     ]
    }
   ],
   "source": [
    "dic = {'Lista de archivos NO generados': [],\n",
    "       'Lista de ERRORES': [],\n",
    "       'Lista de archivos generados': []}\n",
    "\n",
    "for de in dic:\n",
    "    print(de, dic[de])\n",
    "\n",
    "for i in range(50):\n",
    "    if i % 6 == 0: dic['Lista de archivos NO generados'].append(i)\n",
    "    if i % 7 == 0: dic['Lista de ERRORES'].append(i)\n",
    "    if i % 8 == 0: dic['Lista de archivos generados'].append(i)\n",
    "\n",
    "print()\n",
    "\n",
    "for de in dic:\n",
    "    print(de, dic[de])"
   ]
  },
  {
   "cell_type": "code",
   "execution_count": 12,
   "metadata": {},
   "outputs": [
    {
     "ename": "NameError",
     "evalue": "name 'l1' is not defined",
     "output_type": "error",
     "traceback": [
      "\u001b[1;31m---------------------------------------------------------------------------\u001b[0m",
      "\u001b[1;31mNameError\u001b[0m                                 Traceback (most recent call last)",
      "\u001b[1;32mc:\\Users\\jm\\git_repos\\Motor_Calculo\\2-ot30_Des3\\7_not_def_list_in_dict.ipynb Cell 10\u001b[0m line \u001b[0;36m1\n\u001b[1;32m----> <a href='vscode-notebook-cell:/c%3A/Users/jm/git_repos/Motor_Calculo/2-ot30_Des3/7_not_def_list_in_dict.ipynb#X15sZmlsZQ%3D%3D?line=0'>1</a>\u001b[0m dic \u001b[39m=\u001b[39m {\u001b[39m'\u001b[39m\u001b[39ma\u001b[39m\u001b[39m'\u001b[39m: \u001b[39mlist\u001b[39m(l1),\n\u001b[0;32m      <a href='vscode-notebook-cell:/c%3A/Users/jm/git_repos/Motor_Calculo/2-ot30_Des3/7_not_def_list_in_dict.ipynb#X15sZmlsZQ%3D%3D?line=1'>2</a>\u001b[0m        \u001b[39m'\u001b[39m\u001b[39mb\u001b[39m\u001b[39m'\u001b[39m: \u001b[39mlist\u001b[39m(l2)}\n\u001b[0;32m      <a href='vscode-notebook-cell:/c%3A/Users/jm/git_repos/Motor_Calculo/2-ot30_Des3/7_not_def_list_in_dict.ipynb#X15sZmlsZQ%3D%3D?line=2'>3</a>\u001b[0m \u001b[39mprint\u001b[39m(dic)\n",
      "\u001b[1;31mNameError\u001b[0m: name 'l1' is not defined"
     ]
    }
   ],
   "source": [
    "dic = {'a': list(l1),\n",
    "       'b': list(l2)}\n",
    "print(dic)\n"
   ]
  },
  {
   "cell_type": "code",
   "execution_count": null,
   "metadata": {},
   "outputs": [],
   "source": []
  }
 ],
 "metadata": {
  "kernelspec": {
   "display_name": "Python 3",
   "language": "python",
   "name": "python3"
  },
  "language_info": {
   "codemirror_mode": {
    "name": "ipython",
    "version": 3
   },
   "file_extension": ".py",
   "mimetype": "text/x-python",
   "name": "python",
   "nbconvert_exporter": "python",
   "pygments_lexer": "ipython3",
   "version": "3.11.0"
  },
  "orig_nbformat": 4
 },
 "nbformat": 4,
 "nbformat_minor": 2
}
