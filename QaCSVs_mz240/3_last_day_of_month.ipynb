{
 "cells": [
  {
   "cell_type": "markdown",
   "metadata": {},
   "source": [
    "# Last day of a month"
   ]
  },
  {
   "cell_type": "markdown",
   "metadata": {},
   "source": [
    "- Have to check with diferents situacions, not only diff months but also dif years (bisisestos)\n",
    "- importan here mk the __name__ == '__main__' comparation as is fuera a module.\n",
    "- mk to functs one w/Calendar,  datetime and Pandas\n",
    "- PLUS, build complete AAAAMMDD of last day of the month"
   ]
  },
  {
   "cell_type": "markdown",
   "metadata": {},
   "source": [
    "## 0. I Start from a string that is AAAAMM"
   ]
  },
  {
   "cell_type": "code",
   "execution_count": 6,
   "metadata": {},
   "outputs": [],
   "source": [
    "period = '202206'"
   ]
  },
  {
   "cell_type": "markdown",
   "metadata": {},
   "source": [
    "## 1. Using calendar module\n",
    "- calendar has a function that return first an las day of month\n",
    "- calendar.monthrange(int_year, int_month) -> tuple(1, last_day_month)\n",
    "- Just take the second (ix=1) element of the returned tuple"
   ]
  },
  {
   "cell_type": "code",
   "execution_count": 7,
   "metadata": {},
   "outputs": [
    {
     "name": "stdout",
     "output_type": "stream",
     "text": [
      "30 <class 'int'> 20220630 <class 'str'>\n",
      "30 <class 'int'> - 20220630 <class 'str'>\n"
     ]
    }
   ],
   "source": [
    "#%%timeit - 27.3 µs ± 3.85 µs per loop (mean ± std. dev. of 7 runs, 10,000 loops each)\n",
    "import calendar\n",
    "\n",
    "ldcal = calendar.monthrange(int(period[:4]), int(period[4:]))[1]\n",
    "ldfull = f'{period}{ldcal}'\n",
    "print(ldcal, type(ldcal), ldfull, type(ldfull))\n",
    "\n",
    "# mk a function to call w/this\n",
    "def ld_calendar(per):\n",
    "    ldcal = calendar.monthrange(int(per[:4]), int(per[4:]))[1]\n",
    "    ldcfull = f'{per}{ldcal}'\n",
    "    return f'{ldcal} {type(ldcal)} - {ldcfull} {type(ldcfull)}'\n",
    "\n",
    "print(ld_calendar(period))"
   ]
  },
  {
   "cell_type": "markdown",
   "metadata": {},
   "source": [
    "## 2. Using datetime module\n",
    "1. Starting from AAAAMM string need to get a datetime.date object \n",
    "2. Add  enough days to change the month (to make funct. more universa here is better replace the day of date object for 25 and add 9 days for all months of all years it works)\n",
    "3. Rest the the total days of result of 2 and i get last day of month i'm intersted\n"
   ]
  },
  {
   "cell_type": "code",
   "execution_count": 8,
   "metadata": {},
   "outputs": [
    {
     "name": "stdout",
     "output_type": "stream",
     "text": [
      "2022-06-30 <class 'datetime.date'> 20220630 <class 'str'>\n",
      "2022-06-30 <class 'datetime.date'> -  20220630 <class 'str'>\n"
     ]
    }
   ],
   "source": [
    "#%%timeit - 91.1 µs ± 3.76 µs per loop (mean ± std. dev. of 7 runs, 10,000 loops each)\n",
    "import datetime as dtm\n",
    "\n",
    "prd_as_date = dtm.datetime.strptime(period, '%Y%m').date()      # 2022-06-01\n",
    "nxt_mnth = prd_as_date.replace(day=25) + dtm.timedelta(days=9)  # 2022-07-04\n",
    "# nxt_mnth_2 = prd_as_date.replace(month=(prd_as_date.month + 1)) !!! DO NOT\n",
    "# WORK in universal case cause day could be 31 and ValueError: day is out of \n",
    "# range for month\n",
    "lddtm = nxt_mnth - dtm.timedelta(days=nxt_mnth.day)\n",
    "lddfull = dtm.datetime.strftime(lddtm, '%Y%m%d')\n",
    "print(lddtm, type(lddtm), lddfull, type(lddfull))\n",
    "\n",
    "# mk a function to call for test\n",
    "def ld_datetime(per):\n",
    "    prd_as_date = dtm.datetime.strptime(per, '%Y%m').date()\n",
    "    # day 25 exists in every month. 9 days later, it's always next month\n",
    "    nxt_mnth = prd_as_date.replace(day=25) + dtm.timedelta(days=9)\n",
    "    # subtracting the number of days of nxt_mnth we'll get last day of original month\n",
    "    lddtm = nxt_mnth - dtm.timedelta(days=nxt_mnth.day)\n",
    "    lddfull = dtm.datetime.strftime(lddtm, '%Y%m%d')\n",
    "    return f'{lddtm} {type(lddtm)} -  {lddfull} {type(lddfull)}'\n",
    "\n",
    "print(ld_datetime(period))\n"
   ]
  },
  {
   "cell_type": "code",
   "execution_count": 9,
   "metadata": {},
   "outputs": [
    {
     "name": "stdout",
     "output_type": "stream",
     "text": [
      "2022-10-31\n",
      "ERROR!, day is out of range for month\n"
     ]
    }
   ],
   "source": [
    "# Aux - to see errors\n",
    "prd_as_date = dtm.date(2022, 10, 31)\n",
    "print(prd_as_date)\n",
    "try:\n",
    "    nxt_mnth_2 = prd_as_date.replace(month=(prd_as_date.month + 1))\n",
    "except Exception as e:\n",
    "    print(f'ERROR!, {e}')\n",
    "else:\n",
    "    print(nxt_mnth_2)\n"
   ]
  },
  {
   "cell_type": "markdown",
   "metadata": {},
   "source": [
    "## 3. Using Pandas and datetime module"
   ]
  },
  {
   "cell_type": "code",
   "execution_count": 10,
   "metadata": {},
   "outputs": [
    {
     "name": "stdout",
     "output_type": "stream",
     "text": [
      "2022-06-30 <class 'datetime.date'> 20220630 <class 'str'>\n",
      "2022-06-30 <class 'datetime.date'> - 20220630 <class 'str'>\n"
     ]
    }
   ],
   "source": [
    "#%%timeit - 161 µs ± 9.11 µs per loop (mean ± std. dev. of 7 runs, 10,000 loops each)\n",
    "import datetime as dt2\n",
    "import pandas as pd\n",
    "\n",
    "prd_as_date2 = dt2.datetime.strptime(period, '%Y%m').date()\n",
    "ldpd = (prd_as_date2 + pd.offsets.MonthEnd(1)).date()\n",
    "ldpfull = dt2.datetime.strftime(ldpd, '%Y%m%d')\n",
    "print(ldpd, type(ldpd), ldpfull, type(ldpfull))\n",
    "\n",
    "# mk a function to call for test\n",
    "def ld_pandas_dt(per):\n",
    "    prd_as_date2 = dt2.datetime.strptime(per, '%Y%m').date()\n",
    "    ldpd = (prd_as_date2 + pd.offsets.MonthEnd(1)).date()\n",
    "    ldpfull = dt2.datetime.strftime(ldpd, '%Y%m%d')\n",
    "    return f'{ldpd} {type(ldpd)} - {ldpfull} {type(ldpfull)}'\n",
    "\n",
    "print(ld_pandas_dt(period))\n",
    "    "
   ]
  },
  {
   "cell_type": "markdown",
   "metadata": {},
   "source": [
    "## 4. Try w/diff years and months"
   ]
  },
  {
   "cell_type": "markdown",
   "metadata": {},
   "source": []
  },
  {
   "cell_type": "code",
   "execution_count": 15,
   "metadata": {},
   "outputs": [
    {
     "name": "stdout",
     "output_type": "stream",
     "text": [
      "----------------- Año: 2015 --------------------\n",
      "---------- Periodo: 201502 <class 'str'>\n",
      "Calendar: 28 <class 'int'> - 20150228 <class 'str'>\n",
      "Datetime: 2015-02-28 <class 'datetime.date'> -  20150228 <class 'str'>\n",
      "Pandas: 2015-02-28 <class 'datetime.date'> - 20150228 <class 'str'>\n",
      "---------- Periodo: 201506 <class 'str'>\n",
      "Calendar: 30 <class 'int'> - 20150630 <class 'str'>\n",
      "Datetime: 2015-06-30 <class 'datetime.date'> -  20150630 <class 'str'>\n",
      "Pandas: 2015-06-30 <class 'datetime.date'> - 20150630 <class 'str'>\n",
      "---------- Periodo: 201510 <class 'str'>\n",
      "Calendar: 31 <class 'int'> - 20151031 <class 'str'>\n",
      "Datetime: 2015-10-31 <class 'datetime.date'> -  20151031 <class 'str'>\n",
      "Pandas: 2015-10-31 <class 'datetime.date'> - 20151031 <class 'str'>\n",
      "----------------- Año: 2016 --------------------\n",
      "---------- Periodo: 201602 <class 'str'>\n",
      "Calendar: 29 <class 'int'> - 20160229 <class 'str'>\n",
      "Datetime: 2016-02-29 <class 'datetime.date'> -  20160229 <class 'str'>\n",
      "Pandas: 2016-02-29 <class 'datetime.date'> - 20160229 <class 'str'>\n",
      "---------- Periodo: 201606 <class 'str'>\n",
      "Calendar: 30 <class 'int'> - 20160630 <class 'str'>\n",
      "Datetime: 2016-06-30 <class 'datetime.date'> -  20160630 <class 'str'>\n",
      "Pandas: 2016-06-30 <class 'datetime.date'> - 20160630 <class 'str'>\n",
      "---------- Periodo: 201610 <class 'str'>\n",
      "Calendar: 31 <class 'int'> - 20161031 <class 'str'>\n",
      "Datetime: 2016-10-31 <class 'datetime.date'> -  20161031 <class 'str'>\n",
      "Pandas: 2016-10-31 <class 'datetime.date'> - 20161031 <class 'str'>\n",
      "----------------- Año: 2017 --------------------\n",
      "---------- Periodo: 201702 <class 'str'>\n",
      "Calendar: 28 <class 'int'> - 20170228 <class 'str'>\n",
      "Datetime: 2017-02-28 <class 'datetime.date'> -  20170228 <class 'str'>\n",
      "Pandas: 2017-02-28 <class 'datetime.date'> - 20170228 <class 'str'>\n",
      "---------- Periodo: 201706 <class 'str'>\n",
      "Calendar: 30 <class 'int'> - 20170630 <class 'str'>\n",
      "Datetime: 2017-06-30 <class 'datetime.date'> -  20170630 <class 'str'>\n",
      "Pandas: 2017-06-30 <class 'datetime.date'> - 20170630 <class 'str'>\n",
      "---------- Periodo: 201710 <class 'str'>\n",
      "Calendar: 31 <class 'int'> - 20171031 <class 'str'>\n",
      "Datetime: 2017-10-31 <class 'datetime.date'> -  20171031 <class 'str'>\n",
      "Pandas: 2017-10-31 <class 'datetime.date'> - 20171031 <class 'str'>\n",
      "----------------- Año: 2018 --------------------\n",
      "---------- Periodo: 201802 <class 'str'>\n",
      "Calendar: 28 <class 'int'> - 20180228 <class 'str'>\n",
      "Datetime: 2018-02-28 <class 'datetime.date'> -  20180228 <class 'str'>\n",
      "Pandas: 2018-02-28 <class 'datetime.date'> - 20180228 <class 'str'>\n",
      "---------- Periodo: 201806 <class 'str'>\n",
      "Calendar: 30 <class 'int'> - 20180630 <class 'str'>\n",
      "Datetime: 2018-06-30 <class 'datetime.date'> -  20180630 <class 'str'>\n",
      "Pandas: 2018-06-30 <class 'datetime.date'> - 20180630 <class 'str'>\n",
      "---------- Periodo: 201810 <class 'str'>\n",
      "Calendar: 31 <class 'int'> - 20181031 <class 'str'>\n",
      "Datetime: 2018-10-31 <class 'datetime.date'> -  20181031 <class 'str'>\n",
      "Pandas: 2018-10-31 <class 'datetime.date'> - 20181031 <class 'str'>\n",
      "----------------- Año: 2019 --------------------\n",
      "---------- Periodo: 201902 <class 'str'>\n",
      "Calendar: 28 <class 'int'> - 20190228 <class 'str'>\n",
      "Datetime: 2019-02-28 <class 'datetime.date'> -  20190228 <class 'str'>\n",
      "Pandas: 2019-02-28 <class 'datetime.date'> - 20190228 <class 'str'>\n",
      "---------- Periodo: 201906 <class 'str'>\n",
      "Calendar: 30 <class 'int'> - 20190630 <class 'str'>\n",
      "Datetime: 2019-06-30 <class 'datetime.date'> -  20190630 <class 'str'>\n",
      "Pandas: 2019-06-30 <class 'datetime.date'> - 20190630 <class 'str'>\n",
      "---------- Periodo: 201910 <class 'str'>\n",
      "Calendar: 31 <class 'int'> - 20191031 <class 'str'>\n",
      "Datetime: 2019-10-31 <class 'datetime.date'> -  20191031 <class 'str'>\n",
      "Pandas: 2019-10-31 <class 'datetime.date'> - 20191031 <class 'str'>\n",
      "----------------- Año: 2020 --------------------\n",
      "---------- Periodo: 202002 <class 'str'>\n",
      "Calendar: 29 <class 'int'> - 20200229 <class 'str'>\n",
      "Datetime: 2020-02-29 <class 'datetime.date'> -  20200229 <class 'str'>\n",
      "Pandas: 2020-02-29 <class 'datetime.date'> - 20200229 <class 'str'>\n",
      "---------- Periodo: 202006 <class 'str'>\n",
      "Calendar: 30 <class 'int'> - 20200630 <class 'str'>\n",
      "Datetime: 2020-06-30 <class 'datetime.date'> -  20200630 <class 'str'>\n",
      "Pandas: 2020-06-30 <class 'datetime.date'> - 20200630 <class 'str'>\n",
      "---------- Periodo: 202010 <class 'str'>\n",
      "Calendar: 31 <class 'int'> - 20201031 <class 'str'>\n",
      "Datetime: 2020-10-31 <class 'datetime.date'> -  20201031 <class 'str'>\n",
      "Pandas: 2020-10-31 <class 'datetime.date'> - 20201031 <class 'str'>\n",
      "----------------- Año: 2021 --------------------\n",
      "---------- Periodo: 202102 <class 'str'>\n",
      "Calendar: 28 <class 'int'> - 20210228 <class 'str'>\n",
      "Datetime: 2021-02-28 <class 'datetime.date'> -  20210228 <class 'str'>\n",
      "Pandas: 2021-02-28 <class 'datetime.date'> - 20210228 <class 'str'>\n",
      "---------- Periodo: 202106 <class 'str'>\n",
      "Calendar: 30 <class 'int'> - 20210630 <class 'str'>\n",
      "Datetime: 2021-06-30 <class 'datetime.date'> -  20210630 <class 'str'>\n",
      "Pandas: 2021-06-30 <class 'datetime.date'> - 20210630 <class 'str'>\n",
      "---------- Periodo: 202110 <class 'str'>\n",
      "Calendar: 31 <class 'int'> - 20211031 <class 'str'>\n",
      "Datetime: 2021-10-31 <class 'datetime.date'> -  20211031 <class 'str'>\n",
      "Pandas: 2021-10-31 <class 'datetime.date'> - 20211031 <class 'str'>\n",
      "----------------- Año: 2022 --------------------\n",
      "---------- Periodo: 202202 <class 'str'>\n",
      "Calendar: 28 <class 'int'> - 20220228 <class 'str'>\n",
      "Datetime: 2022-02-28 <class 'datetime.date'> -  20220228 <class 'str'>\n",
      "Pandas: 2022-02-28 <class 'datetime.date'> - 20220228 <class 'str'>\n",
      "---------- Periodo: 202206 <class 'str'>\n",
      "Calendar: 30 <class 'int'> - 20220630 <class 'str'>\n",
      "Datetime: 2022-06-30 <class 'datetime.date'> -  20220630 <class 'str'>\n",
      "Pandas: 2022-06-30 <class 'datetime.date'> - 20220630 <class 'str'>\n",
      "---------- Periodo: 202210 <class 'str'>\n",
      "Calendar: 31 <class 'int'> - 20221031 <class 'str'>\n",
      "Datetime: 2022-10-31 <class 'datetime.date'> -  20221031 <class 'str'>\n",
      "Pandas: 2022-10-31 <class 'datetime.date'> - 20221031 <class 'str'>\n",
      "----------------- Año: 2023 --------------------\n",
      "---------- Periodo: 202302 <class 'str'>\n",
      "Calendar: 28 <class 'int'> - 20230228 <class 'str'>\n",
      "Datetime: 2023-02-28 <class 'datetime.date'> -  20230228 <class 'str'>\n",
      "Pandas: 2023-02-28 <class 'datetime.date'> - 20230228 <class 'str'>\n",
      "---------- Periodo: 202306 <class 'str'>\n",
      "Calendar: 30 <class 'int'> - 20230630 <class 'str'>\n",
      "Datetime: 2023-06-30 <class 'datetime.date'> -  20230630 <class 'str'>\n",
      "Pandas: 2023-06-30 <class 'datetime.date'> - 20230630 <class 'str'>\n",
      "---------- Periodo: 202310 <class 'str'>\n",
      "Calendar: 31 <class 'int'> - 20231031 <class 'str'>\n",
      "Datetime: 2023-10-31 <class 'datetime.date'> -  20231031 <class 'str'>\n",
      "Pandas: 2023-10-31 <class 'datetime.date'> - 20231031 <class 'str'>\n",
      "----------------- Año: 2024 --------------------\n",
      "---------- Periodo: 202402 <class 'str'>\n",
      "Calendar: 29 <class 'int'> - 20240229 <class 'str'>\n",
      "Datetime: 2024-02-29 <class 'datetime.date'> -  20240229 <class 'str'>\n",
      "Pandas: 2024-02-29 <class 'datetime.date'> - 20240229 <class 'str'>\n",
      "---------- Periodo: 202406 <class 'str'>\n",
      "Calendar: 30 <class 'int'> - 20240630 <class 'str'>\n",
      "Datetime: 2024-06-30 <class 'datetime.date'> -  20240630 <class 'str'>\n",
      "Pandas: 2024-06-30 <class 'datetime.date'> - 20240630 <class 'str'>\n",
      "---------- Periodo: 202410 <class 'str'>\n",
      "Calendar: 31 <class 'int'> - 20241031 <class 'str'>\n",
      "Datetime: 2024-10-31 <class 'datetime.date'> -  20241031 <class 'str'>\n",
      "Pandas: 2024-10-31 <class 'datetime.date'> - 20241031 <class 'str'>\n"
     ]
    }
   ],
   "source": [
    "for year in range(2015, 2025):\n",
    "    print(f'----------------- Año: {year} --------------------')\n",
    "    for month in ['02', '06', '10']:\n",
    "        period = f'{year}{month}'\n",
    "        print(f'---------- Periodo: {period} {type(period)}')\n",
    "        print('Calendar:', ld_calendar(period))\n",
    "        print('Datetime:', ld_datetime(period))\n",
    "        print('Pandas:', ld_pandas_dt(period))\n"
   ]
  },
  {
   "cell_type": "markdown",
   "metadata": {},
   "source": [
    "## 5. One more: just rest one year to f_corte\n",
    "- f_corte: AAAAMMDD string (DD last day of month)\n",
    "- Para que funcione (por tema febrero en años bisiestos) voy a tener que hacer dos pasos (hya algunas maneras más que se me vienen a la mente pero esta la completo usando lo que ya hice arriba):\n",
    "    1. genero periodo año anterior\n",
    "    2. aplico get_fcorte .. get_last_day_date (aca seria ld_datetime())\n"
   ]
  },
  {
   "cell_type": "code",
   "execution_count": 54,
   "metadata": {},
   "outputs": [
    {
     "name": "stdout",
     "output_type": "stream",
     "text": [
      "201602 2016-02-01 2015-02-01 201502 28 <class 'int'> - 20150228 <class 'str'>\n",
      "Periodo: 202302 - Corte last_year: 28 <class 'int'> - 20220228 <class 'str'>\n",
      "Periodo: 202402 - Corte last_year: 28 <class 'int'> - 20230228 <class 'str'>\n",
      "Periodo: 202502 - Corte last_year: 29 <class 'int'> - 20240229 <class 'str'>\n",
      "Periodo: 202602 - Corte last_year: 28 <class 'int'> - 20250228 <class 'str'>\n",
      "Periodo: 202702 - Corte last_year: 28 <class 'int'> - 20260228 <class 'str'>\n"
     ]
    }
   ],
   "source": [
    "period = '201602'\n",
    "prd_as_date = dtm.datetime.strptime(period, '%Y%m').date()\n",
    "prd_12_date = prd_as_date.replace(year= prd_as_date.year - 1)\n",
    "prd_12 = dtm.datetime.strftime(prd_12_date, '%Y%m')\n",
    "\n",
    "print(period, prd_as_date, prd_12_date, prd_12, ld_calendar(prd_12))\n",
    "\n",
    "## The final Function:\n",
    "def get_corte_last_year(per):\n",
    "    prd_as_date = dtm.datetime.strptime(per, '%Y%m').date()\n",
    "    prd_12_date = prd_as_date.replace(year= prd_as_date.year - 1)\n",
    "    prd_12 = dtm.datetime.strftime(prd_12_date, '%Y%m')\n",
    "    return ld_calendar(prd_12)\n",
    "\n",
    "for p in range(23, 28):\n",
    "    period = f'20{p}02'\n",
    "    print(f'Periodo: {period} - Corte last_year: {get_corte_last_year(period)}')"
   ]
  },
  {
   "cell_type": "code",
   "execution_count": 18,
   "metadata": {},
   "outputs": [
    {
     "name": "stdout",
     "output_type": "stream",
     "text": [
      "20160229 2016-02-29 2015 20150229\n"
     ]
    }
   ],
   "source": [
    "## Pru base rest and strings\n",
    "f_corte = '20160229'\n",
    "fcort_as_date = dtm.datetime.strptime(f_corte, '%Y%m%d').date()\n",
    "last_year = fcort_as_date.year -1\n",
    "fcorte_12 = f'{last_year}{f_corte[4:]}'\n",
    "\n",
    "print(f_corte, fcort_as_date, last_year, fcorte_12)\n",
    "### This NOT WORK for  leap-year"
   ]
  },
  {
   "cell_type": "code",
   "execution_count": 26,
   "metadata": {},
   "outputs": [
    {
     "name": "stdout",
     "output_type": "stream",
     "text": [
      "2017-02-28\n",
      "2016-02-28\n"
     ]
    }
   ],
   "source": [
    "## Pru with replace\n",
    "import datetime as dt3\n",
    "f_corte = '20170228'\n",
    "f = dt3.datetime.strptime(f_corte, '%Y%m%d').date()\n",
    "print(f)\n",
    "\n",
    "print(f.replace(f.year - 1))\n"
   ]
  },
  {
   "cell_type": "code",
   "execution_count": 38,
   "metadata": {},
   "outputs": [
    {
     "name": "stdout",
     "output_type": "stream",
     "text": [
      "2016-02-28\n"
     ]
    }
   ],
   "source": [
    "# Pru w/dateutil --- \n",
    "from dateutil.relativedelta import relativedelta\n",
    "f_corte = '20150228'\n",
    "fcort_as_date = dt3.datetime.strptime(f_corte, '%Y%m%d').date()\n",
    "fcorte_12 = fcort_as_date + relativedelta(years=1)\n",
    "print(fcorte_12)"
   ]
  },
  {
   "cell_type": "code",
   "execution_count": 45,
   "metadata": {},
   "outputs": [
    {
     "name": "stdout",
     "output_type": "stream",
     "text": [
      "2017-02-28 2016-02-28\n"
     ]
    }
   ],
   "source": [
    "from dateutil.relativedelta import relativedelta\n",
    "\n",
    "old_date = dt3.date(2017, 2, 28)\n",
    "\n",
    "new_date = old_date - relativedelta(years=1)\n",
    "\n",
    "print(old_date, new_date)"
   ]
  }
 ],
 "metadata": {
  "kernelspec": {
   "display_name": "Python 3",
   "language": "python",
   "name": "python3"
  },
  "language_info": {
   "codemirror_mode": {
    "name": "ipython",
    "version": 3
   },
   "file_extension": ".py",
   "mimetype": "text/x-python",
   "name": "python",
   "nbconvert_exporter": "python",
   "pygments_lexer": "ipython3",
   "version": "3.11.4"
  },
  "orig_nbformat": 4
 },
 "nbformat": 4,
 "nbformat_minor": 2
}
