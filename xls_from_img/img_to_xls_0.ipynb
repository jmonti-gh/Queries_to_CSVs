{
 "cells": [
  {
   "cell_type": "markdown",
   "metadata": {},
   "source": [
    "# Convert img to xlsx\n",
    "- or csv, or other?"
   ]
  },
  {
   "cell_type": "markdown",
   "metadata": {},
   "source": []
  },
  {
   "cell_type": "code",
   "execution_count": null,
   "metadata": {},
   "outputs": [],
   "source": [
    "Carpeta,Tablas,Origen,Frecuencia de actualización\n",
    "PDS,\"FSD002 1° parte.csv\",Sistema Bantotal,Mensual\n",
    "PDS,\"FSD002 2° parte.csv\",Sistema Bantotal,Mensual\n",
    "PDS,FSD010.csv,Sistema Bantotal,Mensual\n",
    "PDS,FSD601.csv,Sistema Bantotal,Mensual\n",
    "PDS,\"FSR011 refi\",Sistema Bantotal,Mensual\n",
    "PDS,FSR008.csv,Sistema Bantotal,Mensual\n",
    "PDS,\"FSR011 - gtías.csv\",Sistema Bantotal,Mensual\n",
    "PDS,Ingresos originales.csv,Sistema Bantotal,Mensual\n",
    "PDS,ipcempalme ipim.csv,FACPCE,Mensual\n",
    "PDS,in tarjetas.csv,Sistema COBOL,No se actualiza\n",
    "PDS,JMT100.csv,Sistema Bantotal,Mensual\n",
    "PDS,JMTX041.csv,Sistema Bantotal,Mensual\n",
    "PDS,JMTYA10.csv,Sistema Bantotal,Mensual\n",
    "PDS,Base_pond_por_var_aux.csv,Sistema Bantotal,Mensual\n",
    "PDS,Base pond por variable.csv,Sistema Bantotal,Mensual\n",
    "PDS,BNA102.csv,Sistema Bantotal,Mensual\n",
    "PDS,\"PD x cliente - operación Tarj.csv\",Sistema Bantotal,Mensual\n",
    "PDS,\"PD x cliente - operación.csv\",Sistema Bantotal,Mensual\n",
    "PDS,consum msti.csv,Sistema Bantotal,Mensual\n",
    "PDS,consum_mtmi.csv,Sistema Bantotal,Mensual\n",
    "PDS,\"Cotizaciones BNA.csv\",\"Cotizaciones Dólar BNA\",Mensual\n",
    "PDS,Filtro previo consumos.csv,Sistema Bantotal,Mensual\n",
    "LGD_tarj,Ultima_Fecha_Default_MC.csv,Sistema Bantotal,Mensual\n",
    "LGD_tarj,Ultima Fecha Default PS.csv,Sistema Bantotal,Mensual\n",
    "LGD_tarj,flujos consumos.csv,Sistema Bantotal,Mensual\n",
    "LGD_tarj,jmtcc027.csv,Sistema Bantotal,Mensual\n",
    "LGD_tarj,pago_msti.csv,Sistema Bantotal,Mensual\n",
    "LGD_tarj,pago_mtmi.csv,Sistema Bantotal,Mensual\n",
    "LGD_tarj,FSE900 - ENVEJ.csv,Sistema Bantotal,Mensual\n",
    "LGD_tarj,deudaAÑO.csv,\"Sistema Bantotal\",\"Solo se actualiza el correspondiente al año bajo análisis\"\n",
    "LGD_tarj,TCR histórico.csv,\"BCRA - Com. \"\"A\"\" 3500\",Mensual\n",
    "LGD_tarj,Base histórica ( -12m ).csv,Sistema Bantotal,Mensual\n",
    "LGD_prest,Cant cuotas por oper.csv,Sistema Bantotal,Mensual\n",
    "LGD_prest,Historia atraso refinanciacione.csv,Sistema Bantotal,Mensual\n",
    "LGD_prest,Historia atraso refinanciadas.csv,Sistema Bantotal,Mensual\n",
    "LGD_prest,LGD.csv,Sistema Bantotal,Mensual\n",
    "LGD_prest,Pun fin derl.csv,Sistema Bantotal,Mensual\n",
    "LGD_prest,Pun fin izql.csv,Sistema Bantotal,Mensual\n",
    "Coef_PD,Operaciones con default.csv,Sistema Bantotal,Mensual\n",
    "Coef_EAD,Reestruct BCRA.csv,Sistema COBOL,No se actualiza\n",
    "Coef_EAD,CNA.csv,Sistema Bantotal,Mensual\n",
    "EAD_stage,FR1108 atraso cliente.cs V,Sistema Bantotal,Mensual\n",
    "EAD_stage,Saldos no utilizados TC.csv,Sistema Bantotal,Mensual\n",
    "EAD_stage,Hoja total deuda info prev.csv,Sistema Bantotal,Mensual\n",
    "PCE_prest,Cant cuotas pagadas por oper.csv,Sistema Bantotal,Mensual\n",
    "PCE_tarj,Categoría.csv,Sistema Bantotal,Mensual"
   ]
  },
  {
   "cell_type": "code",
   "execution_count": 1,
   "metadata": {},
   "outputs": [],
   "source": [
    "import pytesseract\n",
    "import pandas as pd\n",
    "from PIL import Image"
   ]
  },
  {
   "cell_type": "code",
   "execution_count": 2,
   "metadata": {},
   "outputs": [
    {
     "ename": "FileNotFoundError",
     "evalue": "[Errno 2] No such file or directory: 'CSVs_list_ori1.png'",
     "output_type": "error",
     "traceback": [
      "\u001b[1;31m---------------------------------------------------------------------------\u001b[0m",
      "\u001b[1;31mFileNotFoundError\u001b[0m                         Traceback (most recent call last)",
      "Cell \u001b[1;32mIn[2], line 3\u001b[0m\n\u001b[0;32m      1\u001b[0m \u001b[38;5;66;03m# Cargar la imagen\u001b[39;00m\n\u001b[0;32m      2\u001b[0m image_path \u001b[38;5;241m=\u001b[39m \u001b[38;5;124m\"\u001b[39m\u001b[38;5;124mCSVs_list_ori1.png\u001b[39m\u001b[38;5;124m\"\u001b[39m  \u001b[38;5;66;03m# Reemplázalo con la ruta de tu imagen\u001b[39;00m\n\u001b[1;32m----> 3\u001b[0m image \u001b[38;5;241m=\u001b[39m \u001b[43mImage\u001b[49m\u001b[38;5;241;43m.\u001b[39;49m\u001b[43mopen\u001b[49m\u001b[43m(\u001b[49m\u001b[43mimage_path\u001b[49m\u001b[43m)\u001b[49m\n",
      "File \u001b[1;32mc:\\Users\\jm\\AppData\\Local\\Programs\\Python\\Python311\\Lib\\site-packages\\PIL\\Image.py:3131\u001b[0m, in \u001b[0;36mopen\u001b[1;34m(fp, mode, formats)\u001b[0m\n\u001b[0;32m   3128\u001b[0m     filename \u001b[38;5;241m=\u001b[39m fp\n\u001b[0;32m   3130\u001b[0m \u001b[38;5;28;01mif\u001b[39;00m filename:\n\u001b[1;32m-> 3131\u001b[0m     fp \u001b[38;5;241m=\u001b[39m \u001b[43mbuiltins\u001b[49m\u001b[38;5;241;43m.\u001b[39;49m\u001b[43mopen\u001b[49m\u001b[43m(\u001b[49m\u001b[43mfilename\u001b[49m\u001b[43m,\u001b[49m\u001b[43m \u001b[49m\u001b[38;5;124;43m\"\u001b[39;49m\u001b[38;5;124;43mrb\u001b[39;49m\u001b[38;5;124;43m\"\u001b[39;49m\u001b[43m)\u001b[49m\n\u001b[0;32m   3132\u001b[0m     exclusive_fp \u001b[38;5;241m=\u001b[39m \u001b[38;5;28;01mTrue\u001b[39;00m\n\u001b[0;32m   3134\u001b[0m \u001b[38;5;28;01mtry\u001b[39;00m:\n",
      "\u001b[1;31mFileNotFoundError\u001b[0m: [Errno 2] No such file or directory: 'CSVs_list_ori1.png'"
     ]
    }
   ],
   "source": [
    "# Cargar la imagen\n",
    "image_path = \"CSVs_list_ori1.png\"  # Reemplázalo con la ruta de tu imagen\n",
    "image = Image.open(image_path)"
   ]
  },
  {
   "cell_type": "code",
   "execution_count": null,
   "metadata": {},
   "outputs": [],
   "source": [
    "import pytesseract\n",
    "import pandas as pd\n",
    "from PIL import Image\n",
    "\n",
    "# Cargar la imagen\n",
    "image_path = \"CSVs_list_ori1.png\"  # Reemplázalo con la ruta de tu imagen\n",
    "image = Image.open(image_path)\n",
    "\n",
    "# Extraer texto con OCR\n",
    "extracted_text = pytesseract.image_to_string(image)\n",
    "\n",
    "# Procesar el texto extraído y estructurarlo en una tabla\n",
    "def process_text(text):\n",
    "    lines = text.split(\"\\n\")\n",
    "    structured_data = []\n",
    "    current_folder = \"\"\n",
    "    \n",
    "    for line in lines:\n",
    "        if line.strip():\n",
    "            if not line.startswith(\" \"):\n",
    "                current_folder = line.strip()\n",
    "            else:\n",
    "                structured_data.append([current_folder, line.strip()])\n",
    "    \n",
    "    return structured_data\n",
    "\n",
    "# Convertir a DataFrame\n",
    "data = process_text(extracted_text)\n",
    "df = pd.DataFrame(data, columns=[\"Carpeta\", \"Tablas\"])\n",
    "\n",
    "# Guardar como archivo Excel\n",
    "df.to_excel(\"output.xlsx\", index=False)\n",
    "\n",
    "print(\"Conversión completada. Archivo guardado como 'output.xlsx'\")\n"
   ]
  },
  {
   "cell_type": "code",
   "execution_count": null,
   "metadata": {},
   "outputs": [],
   "source": [
    "from PIL import Image\n",
    "import pytesseract\n",
    "\n",
    "# Load the image\n",
    "image_path = '/mnt/data/Stocks.JPG'\n",
    "img = Image.open(image_path)\n",
    "\n",
    "# Use pytesseract to extract text from the image\n",
    "text = pytesseract.image_to_string(img)\n",
    "\n",
    "# Display the extracted text\n",
    "text[:1000]  # Show the first 1000 characters to inspect quality\n"
   ]
  },
  {
   "cell_type": "code",
   "execution_count": null,
   "metadata": {},
   "outputs": [],
   "source": [
    "from PIL import Image\n",
    "import pytesseract\n",
    "\n",
    "# Open the image file\n",
    "img = Image.open(\"/mnt/data/image.png\")\n",
    "\n",
    "# Use OCR to extract text\n",
    "text = pytesseract.image_to_string(img)\n",
    "\n",
    "text\n",
    "\n",
    "import pandas as pd\n",
    "\n",
    "# Manually corrected data based on the table from the image\n",
    "data = {\n",
    "    \"Comment\": [\n",
    "        \"You can apply .iloc[] and .loc[] on a Series\",\n",
    "        \"The strict .iloc[] and .loc[] indexers help us be specific\",\n",
    "        \".iloc[] – position-based indexing .loc[] – location-based indexing\",\n",
    "        \"Check how many pairs of square brackets you use to surround the specifiers of .iloc[] or .loc[]\",\n",
    "        \"You can refer to the positions of certain values in a DataFrame column\"\n",
    "    ],\n",
    "    \"Do\": [\n",
    "        \"Only use a row indexer\",\n",
    "        \"Use .iloc[] and/or .loc[]\",\n",
    "        \"- Use strings as labels\\n- Use indices containing non-consecutive numbers\",\n",
    "        \"Add a colon to improve legibility: data.iloc[[1,5],:]\",\n",
    "        \"Use .iloc[] and .loc[] together\"\n",
    "    ],\n",
    "    \"Don't\": [\n",
    "        \"Provide a column indexer\",\n",
    "        \"- Use [[]] (i.e. chained indexing)\\n- Use .iloc[] or .loc[] + chained indexing\",\n",
    "        \"Avoid using consecutive numbers as index labels\",\n",
    "        \"Use the following syntax, which is unclear: data.iloc[[1,5]]\",\n",
    "        \"Combine the indexing operator and .iloc[]\"\n",
    "    ]\n",
    "}\n",
    "\n",
    "# Create a DataFrame\n",
    "df = pd.DataFrame(data)\n",
    "\n",
    "# Save the DataFrame as an Excel file\n",
    "file_path = \"/mnt/data/iloc_loc_guide.xlsx\"\n",
    "df.to_excel(file_path, index=False)\n",
    "\n",
    "file_path\n",
    "\n"
   ]
  },
  {
   "cell_type": "code",
   "execution_count": null,
   "metadata": {},
   "outputs": [],
   "source": []
  },
  {
   "cell_type": "code",
   "execution_count": null,
   "metadata": {},
   "outputs": [],
   "source": []
  }
 ],
 "metadata": {
  "kernelspec": {
   "display_name": "Python 3",
   "language": "python",
   "name": "python3"
  },
  "language_info": {
   "codemirror_mode": {
    "name": "ipython",
    "version": 3
   },
   "file_extension": ".py",
   "mimetype": "text/x-python",
   "name": "python",
   "nbconvert_exporter": "python",
   "pygments_lexer": "ipython3",
   "version": "3.11.0"
  }
 },
 "nbformat": 4,
 "nbformat_minor": 2
}
