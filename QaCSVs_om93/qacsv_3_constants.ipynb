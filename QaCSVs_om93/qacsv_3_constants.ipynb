{
 "cells": [
  {
   "cell_type": "code",
   "execution_count": 1,
   "metadata": {},
   "outputs": [],
   "source": [
    "import os\n",
    "import sys\n",
    "import datetime as dtm"
   ]
  },
  {
   "cell_type": "code",
   "execution_count": 7,
   "metadata": {},
   "outputs": [
    {
     "name": "stdout",
     "output_type": "stream",
     "text": [
      "['C:', 'Users', 'Administrator', 'AppData', 'Roaming', 'Python', 'Python311', 'site-packages', 'ipykernel_launcher.py']\n",
      " - prg:  C:\\Users\\Administrator\\AppData\\Roaming\\Python\\Python311\\site-packages\\ipykernel_launcher\n",
      "- logfn + logpath:  logs/C:\\Users\\Administrator\\AppData\\Roaming\\Python\\Python311\\site-packages\\ipykernel_launcher_202402051737.log\n",
      "listas/  -> exists\n",
      "listas_hechas/  -> exists\n",
      "logs/  -> exists\n"
     ]
    }
   ],
   "source": [
    "#// 3. Global Variables (Constants)\n",
    "\n",
    "## Some Miscellaneous Vars\n",
    "print(sys.argv[0].split('\\\\'))\n",
    "\n",
    "prg = sys.argv[0].split('/')[-1].split('.')[0]\n",
    "print(' - prg: ', prg)\n",
    "\n",
    "## Datetime Vars\n",
    "now = dtm.datetime.now()\n",
    "thisyr, thismnth = now.year, now.month      # To validate period red from list_tasks_file\n",
    "now_fname = now.strftime('%Y%m%d%H%M')      # datetime firm for filenames\n",
    "\n",
    "## Paths and Filename Vars\n",
    "# root = 'C:/MTM_PCE/z_GEN_CSVs/'\n",
    "root = ''           # Empty root, just use relative paths\n",
    "lsts = 'listas/'\n",
    "lsts_done = f'{lsts[:-1]}_hechas/'\n",
    "logs = 'logs/'\n",
    "\n",
    "lst_fn = 'CSVs_list_1.xlsx'\n",
    "log_fn = f'''{prg.split('.')[0]}_{now_fname}.log'''\n",
    "\n",
    "lst = root + lsts + lst_fn\n",
    "log = root + logs + log_fn\n",
    "\n",
    "print('- logfn + logpath: ', log)\n",
    "\n",
    "lst_fn_split = lst_fn.split('.')\n",
    "lst_done = f'''{root}{lsts_done}{lst_fn_split[0]}_{now_fname}.{lst_fn_split[1]}'''\n",
    "lst_err = f'''{root}{lsts}{lst_fn_split[0]}_{now_fname}_err.{lst_fn_split[1]}'''\n",
    "\n",
    "#-Creation of necessary subdirectories (of course 'listas/' exits if not impossible to read .xslx)\n",
    "for sd in [lsts, lsts_done, logs]:\n",
    "    try:\n",
    "        os.mkdir(sd)\n",
    "    except FileExistsError as e:\n",
    "        print(sd, ' -> exists')"
   ]
  },
  {
   "cell_type": "code",
   "execution_count": null,
   "metadata": {},
   "outputs": [],
   "source": []
  },
  {
   "cell_type": "code",
   "execution_count": null,
   "metadata": {},
   "outputs": [],
   "source": []
  }
 ],
 "metadata": {
  "kernelspec": {
   "display_name": "Python 3",
   "language": "python",
   "name": "python3"
  },
  "language_info": {
   "codemirror_mode": {
    "name": "ipython",
    "version": 3
   },
   "file_extension": ".py",
   "mimetype": "text/x-python",
   "name": "python",
   "nbconvert_exporter": "python",
   "pygments_lexer": "ipython3",
   "version": "3.11.7"
  }
 },
 "nbformat": 4,
 "nbformat_minor": 2
}
